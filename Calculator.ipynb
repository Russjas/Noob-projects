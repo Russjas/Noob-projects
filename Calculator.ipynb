{
  "nbformat": 4,
  "nbformat_minor": 0,
  "metadata": {
    "colab": {
      "provenance": [],
      "collapsed_sections": [],
      "authorship_tag": "ABX9TyNE5BhMiaqF8Nu4JK4e+4n5",
      "include_colab_link": true
    },
    "kernelspec": {
      "name": "python3",
      "display_name": "Python 3"
    },
    "language_info": {
      "name": "python"
    }
  },
  "cells": [
    {
      "cell_type": "markdown",
      "metadata": {
        "id": "view-in-github",
        "colab_type": "text"
      },
      "source": [
        "<a href=\"https://colab.research.google.com/github/Russjas/Noob-projects/blob/main/Calculator.ipynb\" target=\"_parent\"><img src=\"https://colab.research.google.com/assets/colab-badge.svg\" alt=\"Open In Colab\"/></a>"
      ]
    },
    {
      "cell_type": "markdown",
      "source": [
        " Calculator noob project"
      ],
      "metadata": {
        "id": "qOWQIawLfvyF"
      }
    },
    {
      "cell_type": "code",
      "execution_count": null,
      "metadata": {
        "id": "IH2sQdJFFQQo",
        "colab": {
          "base_uri": "https://localhost:8080/"
        },
        "outputId": "d7d65172-b32e-45c2-9b6f-0f06be24880f"
      },
      "outputs": [
        {
          "output_type": "stream",
          "name": "stdout",
          "text": [
            "enter a number: 15236\n",
            "What would you like to do (+ - / *) +\n",
            "enter a number: 54\n",
            "15236.0 + 54.0 equals 15290.0 \n"
          ]
        }
      ],
      "source": [
        "def calculate():\n",
        "    value_1 = float(input(\"enter a number: \"))\n",
        "    operator = str(input(\"What would you like to do (+ - / *) \"))\n",
        "    value_2 = float(input(\"enter a number: \"))\n",
        "    if operator == '+':\n",
        "      result = value_1 + value_2\n",
        "    elif operator == '-':\n",
        "      result = value_1 - value_2\n",
        "    elif operator == '/':\n",
        "      result = value_1 / value_2\n",
        "    elif operator == '*':\n",
        "      result = value_1 * value_2\n",
        "    else:\n",
        "         print('oops!')\n",
        "    print(f'{value_1} {operator} {value_2} equals {result} ')        \n",
        "calculate()"
      ]
    }
  ]
}